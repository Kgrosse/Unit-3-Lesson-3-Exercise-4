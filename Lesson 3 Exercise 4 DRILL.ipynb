{
 "cells": [
  {
   "cell_type": "code",
   "execution_count": 2,
   "metadata": {},
   "outputs": [],
   "source": [
    "import numpy as np\n",
    "import pandas as pd\n",
    "import matplotlib.pyplot as plt\n",
    "%matplotlib inline\n"
   ]
  },
  {
   "cell_type": "code",
   "execution_count": 6,
   "metadata": {},
   "outputs": [
    {
     "data": {
      "text/plain": [
       "(array([ 4., 15., 13., 25., 21., 12.,  4.,  5.,  0.,  1.]),\n",
       " array([17.67163819, 18.31464433, 18.95765047, 19.60065661, 20.24366275,\n",
       "        20.88666889, 21.52967503, 22.17268117, 22.81568731, 23.45869345,\n",
       "        24.10169959]),\n",
       " <a list of 10 Patch objects>)"
      ]
     },
     "execution_count": 6,
     "metadata": {},
     "output_type": "execute_result"
    },
    {
     "data": {
      "image/png": "[encoded data removed]",
      "text/plain": [
       "<Figure size 432x288 with 1 Axes>"
      ]
     },
     "metadata": {
      "needs_background": "light"
     },
     "output_type": "display_data"
    }
   ],
   "source": [
    "#Graph a normal distribution with a standard deviation of 1 and a mean of 20 for 100 samples\n",
    "norm = np.random.normal(20, 1, 100)\n",
    "plt.hist(norm)"
   ]
  },
  {
   "cell_type": "code",
   "execution_count": 7,
   "metadata": {},
   "outputs": [
    {
     "data": {
      "text/plain": [
       "<matplotlib.lines.Line2D at 0x194f272fdd8>"
      ]
     },
     "execution_count": 7,
     "metadata": {},
     "output_type": "execute_result"
    },
    {
     "data": {
      "image/png": "[encoded data removed]",
      "text/plain": [
       "<Figure size 432x288 with 1 Axes>"
      ]
     },
     "metadata": {
      "needs_background": "light"
     },
     "output_type": "display_data"
    }
   ],
   "source": [
    "#plot the mean and standard deviation as vertical lines on the graph\n",
    "\n",
    "plt.hist(norm)\n",
    "\n",
    "# Add a vertical line at the mean.\n",
    "plt.axvline(norm.mean(), color='b', linestyle='solid', linewidth=2)\n",
    "\n",
    "# Add a vertical line at one standard deviation above the mean.\n",
    "plt.axvline(norm.mean() + norm.std(), color='b', linestyle='dashed', linewidth=2)\n",
    "\n",
    "# Add a vertical line at one standard deviation below the mean.\n",
    "plt.axvline(norm.mean()-norm.std(), color='b', linestyle='dashed', linewidth=2) "
   ]
  },
  {
   "cell_type": "code",
   "execution_count": 8,
   "metadata": {},
   "outputs": [],
   "source": [
    "#Evaluate whether the descriptive statistics provided useful information about the variable. \n",
    "#Can you identify any common characteristics of the distributions that \n",
    "#could be usefully described using the mean and/or standard deviation, versus the ones that could not?\n",
    "#how the mean and st dev could help you in describing the data set\n",
    "\n",
    "#Answer: A normal distribution shows that probability follows an increasing trend until the mean, and then follows a\n",
    "#decreasing trend after the mean. Additionally, 68% of the data are within one standard deviation of the mean.\n"
   ]
  },
  {
   "cell_type": "code",
   "execution_count": 21,
   "metadata": {},
   "outputs": [
    {
     "data": {
      "text/plain": [
       "(array([ 4., 10., 14., 15., 15., 13., 13., 12.,  3.,  1.]),\n",
       " array([ 0. ,  1.1,  2.2,  3.3,  4.4,  5.5,  6.6,  7.7,  8.8,  9.9, 11. ]),\n",
       " <a list of 10 Patch objects>)"
      ]
     },
     "execution_count": 21,
     "metadata": {},
     "output_type": "execute_result"
    },
    {
     "data": {
      "image/png": "[encoded data removed]",
      "text/plain": [
       "<Figure size 432x288 with 1 Axes>"
      ]
     },
     "metadata": {
      "needs_background": "light"
     },
     "output_type": "display_data"
    }
   ],
   "source": [
    "#Graph a posson distribution with a lambda 5\n",
    "pois = np.random.poisson(5, 100)\n",
    "plt.hist(pois)"
   ]
  },
  {
   "cell_type": "code",
   "execution_count": 22,
   "metadata": {},
   "outputs": [
    {
     "data": {
      "text/plain": [
       "<matplotlib.lines.Line2D at 0x194f3ae8dd8>"
      ]
     },
     "execution_count": 22,
     "metadata": {},
     "output_type": "execute_result"
    },
    {
     "data": {
      "image/png": "[encoded data removed]",
      "text/plain": [
       "<Figure size 432x288 with 1 Axes>"
      ]
     },
     "metadata": {
      "needs_background": "light"
     },
     "output_type": "display_data"
    }
   ],
   "source": [
    "#plot the mean and standard deviation as vertical lines on the graph\n",
    "\n",
    "plt.hist(pois)\n",
    "\n",
    "# Add a vertical line at the mean.\n",
    "plt.axvline(pois.mean(), color='b', linestyle='solid', linewidth=2)\n",
    "\n",
    "# Add a vertical line at one standard deviation above the mean.\n",
    "plt.axvline(pois.mean() + pois.std(), color='b', linestyle='dashed', linewidth=2)\n",
    "\n",
    "# Add a vertical line at one standard deviation below the mean.\n",
    "plt.axvline(pois.mean()-pois.std(), color='b', linestyle='dashed', linewidth=2) "
   ]
  },
  {
   "cell_type": "code",
   "execution_count": 13,
   "metadata": {},
   "outputs": [],
   "source": [
    "#Evaluate whether the descriptive statistics provided useful information about the variable. \n",
    "#Can you identify any common characteristics of the distributions that  could be usefully described \n",
    "#using the mean and/or standard deviation, versus the ones that could not?\n",
    "\n",
    "#Answer: the above histogram shows that with a rate of occurance of 5 for a Poisson distribution, the range of probabilities\n",
    "#stay closer to the mean, with more dramatic drop-offs outside the standard deviations"
   ]
  },
  {
   "cell_type": "code",
   "execution_count": 25,
   "metadata": {},
   "outputs": [
    {
     "data": {
      "text/plain": [
       "(array([124., 260., 234., 171.,  98.,  61.,  24.,  17.,   7.,   4.]),\n",
       " array([0.19966714, 1.16511947, 2.1305718 , 3.09602414, 4.06147647,\n",
       "        5.02692881, 5.99238114, 6.95783347, 7.92328581, 8.88873814,\n",
       "        9.85419047]),\n",
       " <a list of 10 Patch objects>)"
      ]
     },
     "execution_count": 25,
     "metadata": {},
     "output_type": "execute_result"
    },
    {
     "data": {
      "image/png": "[encoded data removed]",
      "text/plain": [
       "<Figure size 432x288 with 1 Axes>"
      ]
     },
     "metadata": {
      "needs_background": "light"
     },
     "output_type": "display_data"
    }
   ],
   "source": [
    "#Graph a gamma distribution with a shape of 3 and a scale of 1\n",
    "gamma = np.random.gamma(3,1, 1000)\n",
    "plt.hist(gamma)"
   ]
  },
  {
   "cell_type": "code",
   "execution_count": 28,
   "metadata": {},
   "outputs": [
    {
     "data": {
      "text/plain": [
       "<matplotlib.lines.Line2D at 0x194f3c6d438>"
      ]
     },
     "execution_count": 28,
     "metadata": {},
     "output_type": "execute_result"
    },
    {
     "data": {
      "image/png": "[encoded data removed]",
      "text/plain": [
       "<Figure size 432x288 with 1 Axes>"
      ]
     },
     "metadata": {
      "needs_background": "light"
     },
     "output_type": "display_data"
    }
   ],
   "source": [
    "#plot the mean and standard deviation as vertical lines on the graph\n",
    "\n",
    "plt.hist(gamma)\n",
    "\n",
    "# Add a vertical line at the mean.\n",
    "plt.axvline(gamma.mean(), color='b', linestyle='solid', linewidth=2)\n",
    "\n",
    "# Add a vertical line at one standard deviation above the mean.\n",
    "plt.axvline(gamma.mean() + gamma.std(), color='b', linestyle='dashed', linewidth=2)\n",
    "\n",
    "# Add a vertical line at one standard deviation below the mean.\n",
    "plt.axvline(gamma.mean()-gamma.std(), color='b', linestyle='dashed', linewidth=2) "
   ]
  },
  {
   "cell_type": "code",
   "execution_count": 30,
   "metadata": {},
   "outputs": [],
   "source": [
    "#Evaluate whether the descriptive statistics provided useful information about the variable. \n",
    "#Can you identify any common characteristics of the distributions that  could be usefully described \n",
    "#using the mean and/or standard deviation, versus the ones that could not?\n",
    "\n",
    "#Answer: The gamma distribution represents the time until an event, when it starts out unlikely and becomes more \n",
    "#likely before becoming unlikely again. From a gamma histogram with a shape of 3 and a an inverse scale of 1 (above), \n",
    "#we can see that events become more likely at a shape of 1 and begin to become unlikely after three and drop drastically after 4.\n",
    "#The distribution is skewed to the left."
   ]
  },
  {
   "cell_type": "code",
   "execution_count": 38,
   "metadata": {},
   "outputs": [
    {
     "data": {
      "image/png": "[encoded data removed]",
      "text/plain": [
       "<Figure size 432x288 with 1 Axes>"
      ]
     },
     "metadata": {
      "needs_background": "light"
     },
     "output_type": "display_data"
    }
   ],
   "source": [
    "# Creating a data frame to hold the simulated travel data, and populating it with a\n",
    "# normally distributed variable with mean 50 and standard deviation 25. Create a conditional distribution based on people\n",
    "#who commute more than 4 days a week\n",
    "\n",
    "travel = pd.DataFrame()\n",
    "travel['minutes'] = np.random.normal(50, 10, 100)\n",
    "\n",
    "\n",
    "# Adding a variable with counts of number of days people commute during the week\n",
    "travel['Num_days'] = np.random.randint(0, 7, 100)\n",
    "\n",
    "# Selecting only the cases where the number of days commuting is greater than 4 a week\n",
    "plt.hist(travel[travel['Num_days'] > 4]['minutes'])\n",
    "plt.show()\n"
   ]
  },
  {
   "cell_type": "code",
   "execution_count": 49,
   "metadata": {},
   "outputs": [
    {
     "data": {
      "text/plain": [
       "<matplotlib.lines.Line2D at 0x194f51c5438>"
      ]
     },
     "execution_count": 49,
     "metadata": {},
     "output_type": "execute_result"
    },
    {
     "data": {
      "image/png": "[encoded data removed]",
      "text/plain": [
       "<Figure size 432x288 with 1 Axes>"
      ]
     },
     "metadata": {
      "needs_background": "light"
     },
     "output_type": "display_data"
    }
   ],
   "source": [
    "#plot the mean and standard deviation as vertical lines on the graph\n",
    "\n",
    "plt.hist(travel[travel['Num_days'] > 4]['minutes'])\n",
    "\n",
    "# Add a vertical line at the mean.\n",
    "plt.axvline(travel[travel['Num_days'] > 4]['minutes'].mean(), color='b', linestyle='solid', linewidth=2)\n",
    "\n",
    "# Add a vertical line at one standard deviation above the mean.\n",
    "plt.axvline(travel[travel['Num_days'] > 4]['minutes'].mean() + (travel[travel['Num_days'] > 4]['minutes']).std(), color='b', linestyle='dashed', linewidth=2)\n",
    "\n",
    "# Add a vertical line at one standard deviation below the mean.\n",
    "plt.axvline(travel[travel['Num_days'] > 4]['minutes'].mean()-(travel[travel['Num_days'] > 4]['minutes']).std(), color='b', linestyle='dashed', linewidth=2) \n",
    "\n"
   ]
  },
  {
   "cell_type": "code",
   "execution_count": 50,
   "metadata": {},
   "outputs": [],
   "source": [
    "#Evaluate whether the descriptive statistics provided useful information about the variable. \n",
    "#Can you identify any common characteristics of the distributions that  could be usefully described \n",
    "#using the mean and/or standard deviation, versus the ones that could not?\n",
    "\n",
    "#Answer: The conditional distribution above shows that most people who travel more than four days a week travel a little\n",
    "#over 50 minutes (the mean) and a lot of people travel around 55 minutes--which has the highest bar. This bar exists above the\n",
    "#mean but within one standard deviation. "
   ]
  },
  {
   "cell_type": "code",
   "execution_count": 58,
   "metadata": {},
   "outputs": [
    {
     "data": {
      "image/png": "[encoded data removed]",
      "text/plain": [
       "<Figure size 432x288 with 1 Axes>"
      ]
     },
     "metadata": {
      "needs_background": "light"
     },
     "output_type": "display_data"
    }
   ],
   "source": [
    "# Generate a bernoulli distribution with p =0.7.\n",
    "bernoulli= np.random.binomial(1, .7, 100)\n",
    "\n",
    "#Plot a histogram.\n",
    "plt.hist(bernoulli)\n",
    "\n",
    "# Print the histogram\n",
    "plt.show()"
   ]
  },
  {
   "cell_type": "code",
   "execution_count": 54,
   "metadata": {},
   "outputs": [
    {
     "data": {
      "text/plain": [
       "<matplotlib.lines.Line2D at 0x194f4017b70>"
      ]
     },
     "execution_count": 54,
     "metadata": {},
     "output_type": "execute_result"
    },
    {
     "data": {
      "image/png": "[encoded data removed]",
      "text/plain": [
       "<Figure size 432x288 with 1 Axes>"
      ]
     },
     "metadata": {
      "needs_background": "light"
     },
     "output_type": "display_data"
    }
   ],
   "source": [
    "#plot the mean and standard deviation as vertical lines on the graph\n",
    "\n",
    "plt.hist(bernoulli)\n",
    "\n",
    "# Add a vertical line at the mean.\n",
    "plt.axvline(bernoulli.mean(), color='b', linestyle='solid', linewidth=2)\n",
    "\n",
    "# Add a vertical line at one standard deviation above the mean.\n",
    "plt.axvline(bernoulli.mean() + bernoulli.std(), color='b', linestyle='dashed', linewidth=2)\n",
    "\n",
    "# Add a vertical line at one standard deviation below the mean.\n",
    "plt.axvline(bernoulli.mean()-bernoulli.std(), color='b', linestyle='dashed', linewidth=2) "
   ]
  },
  {
   "cell_type": "code",
   "execution_count": null,
   "metadata": {},
   "outputs": [],
   "source": [
    "#Evaluate whether the descriptive statistics provided useful information about the variable. \n",
    "#Can you identify any common characteristics of the distributions that  could be usefully described \n",
    "#using the mean and/or standard deviation, versus the ones that could not?\n",
    "\n",
    "#Answer: The mean and standard deviation don't tell us much for the bernoulli distribution because there are only two data points. \n",
    "#Additionally, one of the data bars is within the standard deviation distribution and one is not. "
   ]
  },
  {
   "cell_type": "code",
   "execution_count": 57,
   "metadata": {},
   "outputs": [
    {
     "data": {
      "image/png": "[encoded data removed]",
      "text/plain": [
       "<Figure size 432x288 with 1 Axes>"
      ]
     },
     "metadata": {
      "needs_background": "light"
     },
     "output_type": "display_data"
    }
   ],
   "source": [
    "# Generate a binomial distribution with n=15 and p=0.25\n",
    "binomial= np.random.binomial(15, .25, 100)\n",
    "\n",
    "#Plot a histogram.\n",
    "plt.hist(binomial)\n",
    "\n",
    "# Print the histogram\n",
    "plt.show()"
   ]
  },
  {
   "cell_type": "code",
   "execution_count": 59,
   "metadata": {},
   "outputs": [
    {
     "data": {
      "text/plain": [
       "<matplotlib.lines.Line2D at 0x194f3dd86a0>"
      ]
     },
     "execution_count": 59,
     "metadata": {},
     "output_type": "execute_result"
    },
    {
     "data": {
      "image/png": "[encoded data removed]",
      "text/plain": [
       "<Figure size 432x288 with 1 Axes>"
      ]
     },
     "metadata": {
      "needs_background": "light"
     },
     "output_type": "display_data"
    }
   ],
   "source": [
    "#plot the mean and standard deviation as vertical lines on the graph\n",
    "\n",
    "plt.hist(binomial)\n",
    "\n",
    "# Add a vertical line at the mean.\n",
    "plt.axvline(binomial.mean(), color='b', linestyle='solid', linewidth=2)\n",
    "\n",
    "# Add a vertical line at one standard deviation above the mean.\n",
    "plt.axvline(binomial.mean() + binomial.std(), color='b', linestyle='dashed', linewidth=2)\n",
    "\n",
    "# Add a vertical line at one standard deviation below the mean.\n",
    "plt.axvline(binomial.mean()-binomial.std(), color='b', linestyle='dashed', linewidth=2) "
   ]
  },
  {
   "cell_type": "code",
   "execution_count": null,
   "metadata": {},
   "outputs": [],
   "source": [
    "#Evaluate whether the descriptive statistics provided useful information about the variable. \n",
    "#Can you identify any common characteristics of the distributions that  could be usefully described \n",
    "#using the mean and/or standard deviation, versus the ones that could not?\n",
    "\n"
   ]
  }
 ],
 "metadata": {
  "kernelspec": {
   "display_name": "Python 3",
   "language": "python",
   "name": "python3"
  },
  "language_info": {
   "codemirror_mode": {
    "name": "ipython",
    "version": 3
   },
   "file_extension": ".py",
   "mimetype": "text/x-python",
   "name": "python",
   "nbconvert_exporter": "python",
   "pygments_lexer": "ipython3",
   "version": "3.5.3"
  }
 },
 "nbformat": 4,
 "nbformat_minor": 2
}
